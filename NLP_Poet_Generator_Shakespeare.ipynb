{
  "nbformat": 4,
  "nbformat_minor": 0,
  "metadata": {
    "colab": {
      "name": "NLP-Week4-Exercise-Shakespeare-Question.ipynb",
      "version": "0.3.2",
      "provenance": []
    },
    "kernelspec": {
      "name": "python2",
      "display_name": "Python 2"
    },
    "accelerator": "GPU"
  },
  "cells": [
    {
      "cell_type": "code",
      "metadata": {
        "id": "BOwsuGQQY9OL",
        "colab_type": "code",
        "colab": {}
      },
      "source": [
        "from tensorflow.keras.preprocessing.sequence import pad_sequences\n",
        "from tensorflow.keras.layers import Embedding, LSTM, Dense, Dropout, Bidirectional\n",
        "from tensorflow.keras.preprocessing.text import Tokenizer\n",
        "from tensorflow.keras.models import Sequential\n",
        "from tensorflow.keras.optimizers import Adam\n",
        "from tensorflow.keras import regularizers\n",
        "import tensorflow.keras.utils as ku \n",
        "import numpy as np "
      ],
      "execution_count": 0,
      "outputs": []
    },
    {
      "cell_type": "code",
      "metadata": {
        "colab_type": "code",
        "id": "PRnDnCW-Z7qv",
        "colab": {
          "base_uri": "https://localhost:8080/",
          "height": 204
        },
        "outputId": "4b02b6ca-01b1-418d-81ca-4c1d9484822c"
      },
      "source": [
        "tokenizer = Tokenizer()\n",
        "!wget --no-check-certificate \\\n",
        "    https://storage.googleapis.com/laurencemoroney-blog.appspot.com/sonnets.txt \\\n",
        "    -O /tmp/sonnets.txt\n",
        "data = open('/tmp/sonnets.txt').read()\n",
        "\n",
        "corpus = data.lower().split(\"\\n\")\n",
        "\n",
        "\n",
        "tokenizer.fit_on_texts(corpus)\n",
        "total_words = len(tokenizer.word_index) + 1\n",
        "\n",
        "# create input sequences using list of tokens\n",
        "input_sequences = []\n",
        "for line in corpus:\n",
        "\ttoken_list = tokenizer.texts_to_sequences([line])[0]\n",
        "\tfor i in range(1, len(token_list)):\n",
        "\t\tn_gram_sequence = token_list[:i+1]\n",
        "\t\tinput_sequences.append(n_gram_sequence)\n",
        "\n",
        "\n",
        "# pad sequences \n",
        "max_sequence_len = max([len(x) for x in input_sequences])\n",
        "input_sequences = np.array(pad_sequences(input_sequences, maxlen=max_sequence_len, padding='pre'))\n",
        "\n",
        "# create predictors and label\n",
        "predictors, label = input_sequences[:,:-1],input_sequences[:,-1]\n",
        "\n",
        "label = ku.to_categorical(label, num_classes=total_words)"
      ],
      "execution_count": 2,
      "outputs": [
        {
          "output_type": "stream",
          "text": [
            "--2019-06-13 09:37:41--  https://storage.googleapis.com/laurencemoroney-blog.appspot.com/sonnets.txt\n",
            "Resolving storage.googleapis.com (storage.googleapis.com)... 108.177.97.128, 2404:6800:4008:c00::80\n",
            "Connecting to storage.googleapis.com (storage.googleapis.com)|108.177.97.128|:443... connected.\n",
            "HTTP request sent, awaiting response... 200 OK\n",
            "Length: 93578 (91K) [text/plain]\n",
            "Saving to: ‘/tmp/sonnets.txt’\n",
            "\n",
            "/tmp/sonnets.txt    100%[===================>]  91.38K  --.-KB/s    in 0.002s  \n",
            "\n",
            "2019-06-13 09:37:42 (39.8 MB/s) - ‘/tmp/sonnets.txt’ saved [93578/93578]\n",
            "\n"
          ],
          "name": "stdout"
        }
      ]
    },
    {
      "cell_type": "code",
      "metadata": {
        "id": "w9vH8Y59ajYL",
        "colab_type": "code",
        "colab": {
          "base_uri": "https://localhost:8080/",
          "height": 459
        },
        "outputId": "ccc962df-7f2c-4ec7-de08-d42e4e8017b0"
      },
      "source": [
        "model = Sequential()\n",
        "model.add(Embedding(total_words, 100, input_length=max_sequence_len-1))\n",
        "model.add(Bidirectional(LSTM(150, return_sequences = True)))\n",
        "model.add(Dropout(0.2))\n",
        "model.add(LSTM(100))\n",
        "model.add(Dense(total_words/2, activation='relu', kernel_regularizer=regularizers.l2(0.01)))\n",
        "model.add(Dense(total_words, activation='softmax'))\n",
        "model.compile(loss='categorical_crossentropy', optimizer='adam', metrics=['accuracy'])\n",
        "print(model.summary())"
      ],
      "execution_count": 3,
      "outputs": [
        {
          "output_type": "stream",
          "text": [
            "WARNING:tensorflow:From /usr/local/lib/python2.7/dist-packages/tensorflow/python/ops/resource_variable_ops.py:435: colocate_with (from tensorflow.python.framework.ops) is deprecated and will be removed in a future version.\n",
            "Instructions for updating:\n",
            "Colocations handled automatically by placer.\n",
            "WARNING:tensorflow:From /usr/local/lib/python2.7/dist-packages/tensorflow/python/keras/layers/core.py:143: calling dropout (from tensorflow.python.ops.nn_ops) with keep_prob is deprecated and will be removed in a future version.\n",
            "Instructions for updating:\n",
            "Please use `rate` instead of `keep_prob`. Rate should be set to `rate = 1 - keep_prob`.\n",
            "_________________________________________________________________\n",
            "Layer (type)                 Output Shape              Param #   \n",
            "=================================================================\n",
            "embedding (Embedding)        (None, 10, 100)           321100    \n",
            "_________________________________________________________________\n",
            "bidirectional (Bidirectional (None, 10, 300)           301200    \n",
            "_________________________________________________________________\n",
            "dropout (Dropout)            (None, 10, 300)           0         \n",
            "_________________________________________________________________\n",
            "lstm_1 (LSTM)                (None, 100)               160400    \n",
            "_________________________________________________________________\n",
            "dense (Dense)                (None, 1605)              162105    \n",
            "_________________________________________________________________\n",
            "dense_1 (Dense)              (None, 3211)              5156866   \n",
            "=================================================================\n",
            "Total params: 6,101,671\n",
            "Trainable params: 6,101,671\n",
            "Non-trainable params: 0\n",
            "_________________________________________________________________\n",
            "None\n"
          ],
          "name": "stdout"
        }
      ]
    },
    {
      "cell_type": "code",
      "metadata": {
        "id": "AIg2f1HBxqof",
        "colab_type": "code",
        "colab": {
          "base_uri": "https://localhost:8080/",
          "height": 3468
        },
        "outputId": "049e1bc9-b20b-4bb4-bbd8-3b711641c106"
      },
      "source": [
        " history = model.fit(predictors, label, epochs=100, verbose=1)"
      ],
      "execution_count": 4,
      "outputs": [
        {
          "output_type": "stream",
          "text": [
            "WARNING:tensorflow:From /usr/local/lib/python2.7/dist-packages/tensorflow/python/ops/math_ops.py:3066: to_int32 (from tensorflow.python.ops.math_ops) is deprecated and will be removed in a future version.\n",
            "Instructions for updating:\n",
            "Use tf.cast instead.\n",
            "Epoch 1/100\n",
            "15462/15462 [==============================] - 49s 3ms/sample - loss: 6.9012 - acc: 0.0205\n",
            "Epoch 2/100\n",
            "15462/15462 [==============================] - 47s 3ms/sample - loss: 6.4990 - acc: 0.0217\n",
            "Epoch 3/100\n",
            "15462/15462 [==============================] - 46s 3ms/sample - loss: 6.3791 - acc: 0.0251\n",
            "Epoch 4/100\n",
            "15462/15462 [==============================] - 46s 3ms/sample - loss: 6.2607 - acc: 0.0309\n",
            "Epoch 5/100\n",
            "15462/15462 [==============================] - 46s 3ms/sample - loss: 6.1777 - acc: 0.0346\n",
            "Epoch 6/100\n",
            "15462/15462 [==============================] - 46s 3ms/sample - loss: 6.0981 - acc: 0.0382\n",
            "Epoch 7/100\n",
            "15462/15462 [==============================] - 46s 3ms/sample - loss: 6.0184 - acc: 0.0402\n",
            "Epoch 8/100\n",
            "15462/15462 [==============================] - 46s 3ms/sample - loss: 5.9330 - acc: 0.0400\n",
            "Epoch 9/100\n",
            "15462/15462 [==============================] - 46s 3ms/sample - loss: 5.8382 - acc: 0.0501\n",
            "Epoch 10/100\n",
            "15462/15462 [==============================] - 45s 3ms/sample - loss: 5.7332 - acc: 0.0563\n",
            "Epoch 11/100\n",
            "15462/15462 [==============================] - 45s 3ms/sample - loss: 5.6326 - acc: 0.0587\n",
            "Epoch 12/100\n",
            "15462/15462 [==============================] - 45s 3ms/sample - loss: 5.5332 - acc: 0.0640\n",
            "Epoch 13/100\n",
            "15462/15462 [==============================] - 45s 3ms/sample - loss: 5.4407 - acc: 0.0706\n",
            "Epoch 14/100\n",
            "15462/15462 [==============================] - 46s 3ms/sample - loss: 5.3400 - acc: 0.0793\n",
            "Epoch 15/100\n",
            "15462/15462 [==============================] - 46s 3ms/sample - loss: 5.2389 - acc: 0.0826\n",
            "Epoch 16/100\n",
            "15462/15462 [==============================] - 46s 3ms/sample - loss: 5.1316 - acc: 0.0909\n",
            "Epoch 17/100\n",
            "15462/15462 [==============================] - 46s 3ms/sample - loss: 5.0262 - acc: 0.0993\n",
            "Epoch 18/100\n",
            "15462/15462 [==============================] - 46s 3ms/sample - loss: 4.9236 - acc: 0.1110\n",
            "Epoch 19/100\n",
            "15462/15462 [==============================] - 46s 3ms/sample - loss: 4.8184 - acc: 0.1164\n",
            "Epoch 20/100\n",
            "15462/15462 [==============================] - 46s 3ms/sample - loss: 4.7100 - acc: 0.1281\n",
            "Epoch 21/100\n",
            "15462/15462 [==============================] - 46s 3ms/sample - loss: 4.6037 - acc: 0.1383\n",
            "Epoch 22/100\n",
            "15462/15462 [==============================] - 46s 3ms/sample - loss: 4.5054 - acc: 0.1484\n",
            "Epoch 23/100\n",
            "15462/15462 [==============================] - 46s 3ms/sample - loss: 4.4101 - acc: 0.1577\n",
            "Epoch 24/100\n",
            "15462/15462 [==============================] - 46s 3ms/sample - loss: 4.3052 - acc: 0.1683\n",
            "Epoch 25/100\n",
            "15462/15462 [==============================] - 46s 3ms/sample - loss: 4.2011 - acc: 0.1829\n",
            "Epoch 26/100\n",
            "15462/15462 [==============================] - 46s 3ms/sample - loss: 4.0963 - acc: 0.1980\n",
            "Epoch 27/100\n",
            "15462/15462 [==============================] - 46s 3ms/sample - loss: 3.9993 - acc: 0.2082\n",
            "Epoch 28/100\n",
            "15462/15462 [==============================] - 46s 3ms/sample - loss: 3.8968 - acc: 0.2256\n",
            "Epoch 29/100\n",
            "15462/15462 [==============================] - 46s 3ms/sample - loss: 3.7956 - acc: 0.2433\n",
            "Epoch 30/100\n",
            "15462/15462 [==============================] - 46s 3ms/sample - loss: 3.7060 - acc: 0.2619\n",
            "Epoch 31/100\n",
            "15462/15462 [==============================] - 46s 3ms/sample - loss: 3.6090 - acc: 0.2789\n",
            "Epoch 32/100\n",
            "15462/15462 [==============================] - 46s 3ms/sample - loss: 3.5159 - acc: 0.2998\n",
            "Epoch 33/100\n",
            "15462/15462 [==============================] - 46s 3ms/sample - loss: 3.4236 - acc: 0.3143\n",
            "Epoch 34/100\n",
            "15462/15462 [==============================] - 46s 3ms/sample - loss: 3.3398 - acc: 0.3326\n",
            "Epoch 35/100\n",
            "15462/15462 [==============================] - 46s 3ms/sample - loss: 3.2573 - acc: 0.3542\n",
            "Epoch 36/100\n",
            "15462/15462 [==============================] - 46s 3ms/sample - loss: 3.1763 - acc: 0.3703\n",
            "Epoch 37/100\n",
            "15462/15462 [==============================] - 46s 3ms/sample - loss: 3.0942 - acc: 0.3890\n",
            "Epoch 38/100\n",
            "15462/15462 [==============================] - 46s 3ms/sample - loss: 3.0230 - acc: 0.4043\n",
            "Epoch 39/100\n",
            "15462/15462 [==============================] - 46s 3ms/sample - loss: 2.9407 - acc: 0.4244\n",
            "Epoch 40/100\n",
            "15462/15462 [==============================] - 46s 3ms/sample - loss: 2.8780 - acc: 0.4408\n",
            "Epoch 41/100\n",
            "15462/15462 [==============================] - 46s 3ms/sample - loss: 2.8086 - acc: 0.4572\n",
            "Epoch 42/100\n",
            "15462/15462 [==============================] - 46s 3ms/sample - loss: 2.7286 - acc: 0.4721\n",
            "Epoch 43/100\n",
            "15462/15462 [==============================] - 46s 3ms/sample - loss: 2.6617 - acc: 0.4906\n",
            "Epoch 44/100\n",
            "15462/15462 [==============================] - 46s 3ms/sample - loss: 2.6093 - acc: 0.4994\n",
            "Epoch 45/100\n",
            "15462/15462 [==============================] - 46s 3ms/sample - loss: 2.5610 - acc: 0.5137\n",
            "Epoch 46/100\n",
            "15462/15462 [==============================] - 46s 3ms/sample - loss: 2.4984 - acc: 0.5261\n",
            "Epoch 47/100\n",
            "15462/15462 [==============================] - 46s 3ms/sample - loss: 2.4338 - acc: 0.5422\n",
            "Epoch 48/100\n",
            "15462/15462 [==============================] - 46s 3ms/sample - loss: 2.3901 - acc: 0.5529\n",
            "Epoch 49/100\n",
            "15462/15462 [==============================] - 46s 3ms/sample - loss: 2.3341 - acc: 0.5650\n",
            "Epoch 50/100\n",
            "15462/15462 [==============================] - 46s 3ms/sample - loss: 2.2874 - acc: 0.5753\n",
            "Epoch 51/100\n",
            "15462/15462 [==============================] - 46s 3ms/sample - loss: 2.2477 - acc: 0.5814\n",
            "Epoch 52/100\n",
            "15462/15462 [==============================] - 46s 3ms/sample - loss: 2.2028 - acc: 0.5944\n",
            "Epoch 53/100\n",
            "15462/15462 [==============================] - 46s 3ms/sample - loss: 2.1575 - acc: 0.6019\n",
            "Epoch 54/100\n",
            "15462/15462 [==============================] - 46s 3ms/sample - loss: 2.1056 - acc: 0.6158\n",
            "Epoch 55/100\n",
            "15462/15462 [==============================] - 46s 3ms/sample - loss: 2.0714 - acc: 0.6238\n",
            "Epoch 56/100\n",
            "15462/15462 [==============================] - 46s 3ms/sample - loss: 2.0205 - acc: 0.6323\n",
            "Epoch 57/100\n",
            "15462/15462 [==============================] - 46s 3ms/sample - loss: 1.9820 - acc: 0.6409\n",
            "Epoch 58/100\n",
            "15462/15462 [==============================] - 46s 3ms/sample - loss: 1.9596 - acc: 0.6473\n",
            "Epoch 59/100\n",
            "15462/15462 [==============================] - 46s 3ms/sample - loss: 1.9117 - acc: 0.6578\n",
            "Epoch 60/100\n",
            "15462/15462 [==============================] - 46s 3ms/sample - loss: 1.8883 - acc: 0.6603\n",
            "Epoch 61/100\n",
            "15462/15462 [==============================] - 46s 3ms/sample - loss: 1.8560 - acc: 0.6630\n",
            "Epoch 62/100\n",
            "15462/15462 [==============================] - 46s 3ms/sample - loss: 1.8186 - acc: 0.6775\n",
            "Epoch 63/100\n",
            "15462/15462 [==============================] - 46s 3ms/sample - loss: 1.7859 - acc: 0.6815\n",
            "Epoch 64/100\n",
            "15462/15462 [==============================] - 46s 3ms/sample - loss: 1.7528 - acc: 0.6911\n",
            "Epoch 65/100\n",
            "15462/15462 [==============================] - 46s 3ms/sample - loss: 1.7208 - acc: 0.6962\n",
            "Epoch 66/100\n",
            "15462/15462 [==============================] - 46s 3ms/sample - loss: 1.6923 - acc: 0.7045\n",
            "Epoch 67/100\n",
            "15462/15462 [==============================] - 46s 3ms/sample - loss: 1.6759 - acc: 0.7066\n",
            "Epoch 68/100\n",
            "15462/15462 [==============================] - 46s 3ms/sample - loss: 1.6421 - acc: 0.7130\n",
            "Epoch 69/100\n",
            "15462/15462 [==============================] - 46s 3ms/sample - loss: 1.6223 - acc: 0.7189\n",
            "Epoch 70/100\n",
            "15462/15462 [==============================] - 46s 3ms/sample - loss: 1.5915 - acc: 0.7247\n",
            "Epoch 71/100\n",
            "15462/15462 [==============================] - 46s 3ms/sample - loss: 1.5674 - acc: 0.7276\n",
            "Epoch 72/100\n",
            "15462/15462 [==============================] - 46s 3ms/sample - loss: 1.5702 - acc: 0.7274\n",
            "Epoch 73/100\n",
            "15462/15462 [==============================] - 46s 3ms/sample - loss: 1.5298 - acc: 0.7358\n",
            "Epoch 74/100\n",
            "15462/15462 [==============================] - 46s 3ms/sample - loss: 1.5032 - acc: 0.7398\n",
            "Epoch 75/100\n",
            "15462/15462 [==============================] - 46s 3ms/sample - loss: 1.4831 - acc: 0.7438\n",
            "Epoch 76/100\n",
            "15462/15462 [==============================] - 46s 3ms/sample - loss: 1.4570 - acc: 0.7489\n",
            "Epoch 77/100\n",
            "15462/15462 [==============================] - 46s 3ms/sample - loss: 1.4523 - acc: 0.7495\n",
            "Epoch 78/100\n",
            "15462/15462 [==============================] - 46s 3ms/sample - loss: 1.4287 - acc: 0.7527\n",
            "Epoch 79/100\n",
            "15462/15462 [==============================] - 46s 3ms/sample - loss: 1.4197 - acc: 0.7562\n",
            "Epoch 80/100\n",
            "15462/15462 [==============================] - 46s 3ms/sample - loss: 1.3976 - acc: 0.7564\n",
            "Epoch 81/100\n",
            "15462/15462 [==============================] - 46s 3ms/sample - loss: 1.3806 - acc: 0.7628\n",
            "Epoch 82/100\n",
            "15462/15462 [==============================] - 46s 3ms/sample - loss: 1.3543 - acc: 0.7692\n",
            "Epoch 83/100\n",
            "15462/15462 [==============================] - 45s 3ms/sample - loss: 1.3397 - acc: 0.7675\n",
            "Epoch 84/100\n",
            "15462/15462 [==============================] - 45s 3ms/sample - loss: 1.3322 - acc: 0.7709\n",
            "Epoch 85/100\n",
            "15462/15462 [==============================] - 45s 3ms/sample - loss: 1.3155 - acc: 0.7761\n",
            "Epoch 86/100\n",
            "15462/15462 [==============================] - 45s 3ms/sample - loss: 1.3023 - acc: 0.7745\n",
            "Epoch 87/100\n",
            "15462/15462 [==============================] - 45s 3ms/sample - loss: 1.2845 - acc: 0.7794\n",
            "Epoch 88/100\n",
            "15462/15462 [==============================] - 45s 3ms/sample - loss: 1.2971 - acc: 0.7725\n",
            "Epoch 89/100\n",
            "15462/15462 [==============================] - 45s 3ms/sample - loss: 1.2563 - acc: 0.7835\n",
            "Epoch 90/100\n",
            "15462/15462 [==============================] - 45s 3ms/sample - loss: 1.2574 - acc: 0.7791\n",
            "Epoch 91/100\n",
            "15462/15462 [==============================] - 45s 3ms/sample - loss: 1.2158 - acc: 0.7903\n",
            "Epoch 92/100\n",
            "15462/15462 [==============================] - 45s 3ms/sample - loss: 1.2231 - acc: 0.7890\n",
            "Epoch 93/100\n",
            "15462/15462 [==============================] - 45s 3ms/sample - loss: 1.2181 - acc: 0.7888\n",
            "Epoch 94/100\n",
            "15462/15462 [==============================] - 45s 3ms/sample - loss: 1.1946 - acc: 0.7917\n",
            "Epoch 95/100\n",
            "15462/15462 [==============================] - 45s 3ms/sample - loss: 1.1911 - acc: 0.7930\n",
            "Epoch 96/100\n",
            "15462/15462 [==============================] - 45s 3ms/sample - loss: 1.1898 - acc: 0.7929\n",
            "Epoch 97/100\n",
            "15462/15462 [==============================] - 45s 3ms/sample - loss: 1.1708 - acc: 0.7963\n",
            "Epoch 98/100\n",
            "15462/15462 [==============================] - 45s 3ms/sample - loss: 1.1671 - acc: 0.7955\n",
            "Epoch 99/100\n",
            "15462/15462 [==============================] - 45s 3ms/sample - loss: 1.1427 - acc: 0.8018\n",
            "Epoch 100/100\n",
            "15462/15462 [==============================] - 45s 3ms/sample - loss: 1.1412 - acc: 0.8016\n"
          ],
          "name": "stdout"
        }
      ]
    },
    {
      "cell_type": "code",
      "metadata": {
        "id": "1fXTEO3GJ282",
        "colab_type": "code",
        "colab": {
          "base_uri": "https://localhost:8080/",
          "height": 545
        },
        "outputId": "02021a18-3b1e-44fe-9ee9-899b09e7c6bc"
      },
      "source": [
        "import matplotlib.pyplot as plt\n",
        "acc = history.history['acc']\n",
        "loss = history.history['loss']\n",
        "\n",
        "epochs = range(len(acc))\n",
        "\n",
        "plt.plot(epochs, acc, 'b', label='Training accuracy')\n",
        "plt.title('Training accuracy')\n",
        "\n",
        "plt.figure()\n",
        "\n",
        "plt.plot(epochs, loss, 'b', label='Training Loss')\n",
        "plt.title('Training loss')\n",
        "plt.legend()\n",
        "\n",
        "plt.show()"
      ],
      "execution_count": 6,
      "outputs": [
        {
          "output_type": "display_data",
          "data": {
            "image/png": "[encoded data removed]",
            "text/plain": [
              "<Figure size 432x288 with 1 Axes>"
            ]
          },
          "metadata": {
            "tags": []
          }
        },
        {
          "output_type": "display_data",
          "data": {
            "image/png": "[encoded data removed]",
            "text/plain": [
              "<Figure size 432x288 with 1 Axes>"
            ]
          },
          "metadata": {
            "tags": []
          }
        }
      ]
    },
    {
      "cell_type": "code",
      "metadata": {
        "id": "6Vc6PHgxa6Hm",
        "colab_type": "code",
        "colab": {
          "base_uri": "https://localhost:8080/",
          "height": 54
        },
        "outputId": "e63e51a2-9388-4d7f-c005-75a5c0b0b833"
      },
      "source": [
        "seed_text = \"I find your lack of faith disturbing\" #\"Help me Obi Wan Kenobi, you're my only hope\"\n",
        "next_words = 100\n",
        "  \n",
        "for _ in range(next_words):\n",
        "\ttoken_list = tokenizer.texts_to_sequences([seed_text])[0]\n",
        "\ttoken_list = pad_sequences([token_list], maxlen=max_sequence_len-1, padding='pre')\n",
        "\tpredicted = model.predict_classes(token_list, verbose=0)\n",
        "\toutput_word = \"\"\n",
        "\tfor word, index in tokenizer.word_index.items():\n",
        "\t\tif index == predicted:\n",
        "\t\t\toutput_word = word\n",
        "\t\t\tbreak\n",
        "\tseed_text += \" \" + output_word\n",
        "print(seed_text)"
      ],
      "execution_count": 5,
      "outputs": [
        {
          "output_type": "stream",
          "text": [
            "I find your lack of faith disturbing not you is dispense shown pride do none live bright bright bad grace wanting life of amiss prove thee after heart ' die open minds of men still bad still must lend thee thee to keep so now now spend told sorrow store they look up known thrust warm'd grow up view had buried friend shall store so minds in to die day do spend prove care 'tis held madmen's now be conspire others' remain acquainted appear more nearly knit quite gone still say she was she was she must be muse thee doth thee none dost long cold hence\n"
          ],
          "name": "stdout"
        }
      ]
    },
    {
      "cell_type": "code",
      "metadata": {
        "id": "NlReaHv2l7hw",
        "colab_type": "code",
        "colab": {}
      },
      "source": [
        ""
      ],
      "execution_count": 0,
      "outputs": []
    }
  ]
}